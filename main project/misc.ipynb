{
 "cells": [
  {
   "cell_type": "code",
   "execution_count": 4,
   "metadata": {},
   "outputs": [
    {
     "name": "stdout",
     "output_type": "stream",
     "text": [
      "['000', '001', '010', '011', '100', '101', '110', '111']\n"
     ]
    }
   ],
   "source": [
    "from utilities import bit_str_list\n",
    "a = bit_str_list(3)\n",
    "print(a)"
   ]
  },
  {
   "cell_type": "code",
   "execution_count": 1,
   "metadata": {},
   "outputs": [
    {
     "name": "stdout",
     "output_type": "stream",
     "text": [
      "[ 0.+0.j -1.+0.j]\n",
      "[0.000000e+00+0.j 6.123234e-17+1.j]\n",
      "[0.+0.j 1.+0.j 0.+0.j 0.+0.j]\n"
     ]
    },
    {
     "data": {
      "text/plain": [
       "True"
      ]
     },
     "execution_count": 1,
     "metadata": {},
     "output_type": "execute_result"
    }
   ],
   "source": [
    "import numpy as np\n",
    "from qiskit import QuantumCircuit, ClassicalRegister, Aer, execute, circuit\n",
    "from qiskit.quantum_info import partial_trace, Statevector, DensityMatrix, Operator\n",
    "circ0 = QuantumCircuit(1)\n",
    "circ0.x(0)\n",
    "circ0.z(0)\n",
    "state0 = Statevector(circ0)\n",
    "\n",
    "circ1 = QuantumCircuit(1)\n",
    "circ1.x(0)\n",
    "circ1.rz(np.pi,0)\n",
    "state1 = Statevector(circ1)\n",
    "\n",
    "circ2 = QuantumCircuit(2)\n",
    "circ2.x(0)\n",
    "state2 = Statevector(circ2)\n",
    "print(state0.data)\n",
    "print(state1.data)\n",
    "print(state2.data)\n",
    "\n",
    "state0.equiv(state1)"
   ]
  },
  {
   "cell_type": "code",
   "execution_count": 12,
   "metadata": {},
   "outputs": [
    {
     "name": "stdout",
     "output_type": "stream",
     "text": [
      "[[ 1]\n",
      " [-1]]\n"
     ]
    }
   ],
   "source": [
    "I = np.array([[1,0],[0,1]])\n",
    "X = np.array([[0,1],[1,0]])\n",
    "Z = np.array([[1,0],[0,-1]])\n",
    "XZ = np.kron(X,Z)\n",
    "ZX = np.kron(Z,X)\n",
    "II = np.kron(I,I)\n",
    "ZXZ = np.kron(Z,XZ)\n",
    "H = -(np.kron(XZ,II) + np.kron(ZXZ,I) + np.kron(I,ZXZ) + np.kron(II,ZX))\n",
    "eigvals, eigvecs = np.linalg.eig(H)\n",
    "print(Z@np.array([[1],[1]]))\n",
    "#print(H)\n",
    "#print(eigvals)\n",
    "#print(eigvecs)"
   ]
  },
  {
   "cell_type": "code",
   "execution_count": 69,
   "metadata": {},
   "outputs": [
    {
     "name": "stdout",
     "output_type": "stream",
     "text": [
      "['IXY', 'III', 'IIY']\n"
     ]
    }
   ],
   "source": [
    "import itertools\n",
    "backend = provider.get_backend('ibm_washington')\n",
    "test = GraphState(backend)\n",
    "test.connections\n",
    "\n",
    "a = PauliList(['III','IXY','IYI'])\n",
    "b = a.group_qubit_wise_commuting()\n",
    "#b = 'I'*5\n",
    "#print(b)\n",
    "c = ['III','IXY','IIY']\n",
    "def check_QWC(pauli_string, group):\n",
    "    QWC = True\n",
    "    for string in group:\n",
    "        for i in range(len(pauli_string)):\n",
    "            if pauli_string[i] != 'I' and string[i] != 'I':\n",
    "                if pauli_string[i] != string[i]:\n",
    "                    QWC = False\n",
    "    return QWC\n",
    "\n",
    "remove = c.pop(1)\n",
    "c.insert(0, remove)\n",
    "print(c)"
   ]
  },
  {
   "cell_type": "code",
   "execution_count": 3,
   "metadata": {},
   "outputs": [
    {
     "name": "stdout",
     "output_type": "stream",
     "text": [
      "range(0, 2)\n"
     ]
    },
    {
     "data": {
      "text/plain": [
       "range"
      ]
     },
     "execution_count": 3,
     "metadata": {},
     "output_type": "execute_result"
    }
   ],
   "source": []
  },
  {
   "cell_type": "code",
   "execution_count": 29,
   "metadata": {},
   "outputs": [
    {
     "data": {
      "text/plain": [
       "<mthree.mitigation.M3Mitigation at 0x1ed44aa3790>"
      ]
     },
     "execution_count": 29,
     "metadata": {},
     "output_type": "execute_result"
    }
   ],
   "source": [
    "backend = provider.get_backend('ibmq_manila')\n",
    "run_cal(backend)"
   ]
  },
  {
   "cell_type": "code",
   "execution_count": 5,
   "metadata": {},
   "outputs": [
    {
     "name": "stdout",
     "output_type": "stream",
     "text": [
      "[['X', 'Z'], 'YZ']\n",
      "['Z', ['Y', 'Z']]\n",
      "['Z', 'Z']\n"
     ]
    }
   ],
   "source": [
    "a = ['XZ','YZ']\n",
    "delete = [0]\n",
    "for i in range(len(a)):\n",
    "    a[i] = list(map(str, a[i]))\n",
    "    print(a)\n",
    "    for j in delete:\n",
    "        del a[i][j]\n",
    "    a[i] = ''.join(a[i])\n",
    "print(a)"
   ]
  },
  {
   "cell_type": "code",
   "execution_count": 7,
   "metadata": {},
   "outputs": [
    {
     "name": "stdout",
     "output_type": "stream",
     "text": [
      "[('X', 'X'), ('X', 'Y'), ('X', 'Z'), ('Y', 'X'), ('Y', 'Y'), ('Y', 'Z'), ('Z', 'X'), ('Z', 'Y'), ('Z', 'Z')]\n",
      "XX\n",
      "XY\n",
      "XZ\n",
      "YX\n",
      "YY\n",
      "YZ\n",
      "ZX\n",
      "ZY\n",
      "ZZ\n"
     ]
    }
   ],
   "source": [
    "import itertools\n",
    "lst = [['X','Y','Z'],['X','Y','Z']]\n",
    "combinations = [p for p in itertools.product(*lst)]\n",
    "print(combinations)\n",
    "for basis in combinations:\n",
    "    a = ''.join(basis)\n",
    "    print(a)"
   ]
  },
  {
   "cell_type": "code",
   "execution_count": 22,
   "metadata": {},
   "outputs": [],
   "source": [
    "import numpy as np\n",
    "from qiskit import QuantumCircuit, ClassicalRegister, Aer, execute, circuit, transpile\n",
    "from qiskit.quantum_info import partial_trace, Statevector, DensityMatrix, Operator\n",
    "circ = QuantumCircuit(7)\n",
    "circ.h(1)\n",
    "circ.measure_all()\n",
    "circ.draw()\n",
    "backend = provider.get_backend('ibmq_qasm_simulator')\n",
    "trans_qc = transpile(circ, backend)\n",
    "raw_counts = backend.run(trans_qc, shots=2048).result().get_counts()"
   ]
  },
  {
   "cell_type": "code",
   "execution_count": 28,
   "metadata": {},
   "outputs": [
    {
     "name": "stdout",
     "output_type": "stream",
     "text": [
      "{'0000000': 0.49560195031024823, '0000010': 0.5043980496897519}\n",
      "{'0000000': 0.49560195031024823, '0000010': 0.5043980496897519}\n"
     ]
    }
   ],
   "source": [
    "mit = mthree.M3Mitigation(backend)\n",
    "mit.cals_from_system(range(circ.num_qubits))\n",
    "filename = f'calibrations/{backend.name()}_cal.json'\n",
    "mit.cals_to_file(filename)\n",
    "quasi = mit.apply_correction(raw_counts, range(circ.num_qubits))\n",
    "probs = quasi.nearest_probability_distribution()\n",
    "print(quasi)\n",
    "print(probs)"
   ]
  },
  {
   "cell_type": "code",
   "execution_count": 36,
   "metadata": {},
   "outputs": [
    {
     "name": "stdout",
     "output_type": "stream",
     "text": [
      "     ┌───┐\n",
      "q_0: ┤ X ├\n",
      "     └───┘\n",
      "q_1: ─────\n",
      "          \n",
      "Statevector([0.+0.j, 1.+0.j, 0.+0.j, 0.+0.j],\n",
      "            dims=(2, 2))\n",
      "DensityMatrix([[0.+0.j, 0.+0.j, 0.+0.j, 0.+0.j],\n",
      "               [0.+0.j, 1.+0.j, 0.+0.j, 0.+0.j],\n",
      "               [0.+0.j, 0.+0.j, 0.+0.j, 0.+0.j],\n",
      "               [0.+0.j, 0.+0.j, 0.+0.j, 0.+0.j]],\n",
      "              dims=(2, 2))\n"
     ]
    },
    {
     "data": {
      "text/plain": [
       "array([[0.+0.j, 0.+0.j, 0.+0.j, 0.+0.j],\n",
       "       [0.+0.j, 1.+0.j, 0.+0.j, 0.+0.j],\n",
       "       [0.+0.j, 0.+0.j, 0.+0.j, 0.+0.j],\n",
       "       [0.+0.j, 0.+0.j, 0.+0.j, 0.+0.j]])"
      ]
     },
     "execution_count": 36,
     "metadata": {},
     "output_type": "execute_result"
    }
   ],
   "source": [
    "import numpy as np\n",
    "from qiskit import QuantumCircuit, ClassicalRegister, Aer, execute, circuit\n",
    "from qiskit.quantum_info import partial_trace, Statevector, DensityMatrix, Operator\n",
    "circ = QuantumCircuit(2)\n",
    "#circ.h(range(2))\n",
    "#for i in range(1):\n",
    "#    circ.cz(i,i+1)\n",
    "\n",
    "circ.x(0)\n",
    "\n",
    "print(circ)\n",
    "Matrix = Operator(circ).data\n",
    "#print(-Matrix)\n",
    "eigval, eigvec = np.linalg.eig(-Matrix)\n",
    "\n",
    "#print(eigval)\n",
    "#print(eigvec)\n",
    "state = Statevector(circ)\n",
    "print(state)\n",
    "ro = DensityMatrix(state)\n",
    "a = DensityMatrix(np.ones(4))\n",
    "#reduced_ro = partial_trace(ro, [1]).data\n",
    "\n",
    "#state.draw('latex')\n",
    "print(ro)\n",
    "#print(reduced_ro)\n",
    "ro.data**2"
   ]
  },
  {
   "cell_type": "code",
   "execution_count": 5,
   "metadata": {},
   "outputs": [
    {
     "data": {
      "text/html": [
       "<pre style=\"word-wrap: normal;white-space: pre;background: #fff0;line-height: 1.1;font-family: &quot;Courier New&quot;,Courier,monospace\">        ┌───┐       ░ ┌─────────────────┐┌───┐┌─────────────────┐┌───┐»\n",
       "   q_0: ┤ H ├─■─────░─┤ Delay(1024[dt]) ├┤ X ├┤ Delay(2096[dt]) ├┤ X ├»\n",
       "        ├───┤ │     ░ ├─────────────────┤├───┤├─────────────────┤├───┤»\n",
       "   q_1: ┤ H ├─■──■──░─┤ Delay(1024[dt]) ├┤ X ├┤ Delay(2096[dt]) ├┤ X ├»\n",
       "        ├───┤    │  ░ ├─────────────────┤├───┤├─────────────────┤├───┤»\n",
       "   q_2: ┤ H ├─■──■──░─┤ Delay(1024[dt]) ├┤ X ├┤ Delay(2096[dt]) ├┤ X ├»\n",
       "        ├───┤ │     ░ ├─────────────────┤├───┤├─────────────────┤├───┤»\n",
       "   q_3: ┤ H ├─■──■──░─┤ Delay(1024[dt]) ├┤ X ├┤ Delay(2096[dt]) ├┤ X ├»\n",
       "        ├───┤    │  ░ ├─────────────────┤├───┤├─────────────────┤├───┤»\n",
       "   q_4: ┤ H ├────■──░─┤ Delay(1024[dt]) ├┤ X ├┤ Delay(2096[dt]) ├┤ X ├»\n",
       "        └───┘       ░ └─────────────────┘└───┘└─────────────────┘└───┘»\n",
       "meas: 5/══════════════════════════════════════════════════════════════»\n",
       "                                                                      »\n",
       "«        ┌─────────────────┐┌───┐┌─────────────────┐┌───┐┌─────────────────┐»\n",
       "«   q_0: ┤ Delay(2096[dt]) ├┤ X ├┤ Delay(2096[dt]) ├┤ X ├┤ Delay(2096[dt]) ├»\n",
       "«        ├─────────────────┤├───┤├─────────────────┤├───┤├─────────────────┤»\n",
       "«   q_1: ┤ Delay(2096[dt]) ├┤ X ├┤ Delay(2096[dt]) ├┤ X ├┤ Delay(2096[dt]) ├»\n",
       "«        ├─────────────────┤├───┤├─────────────────┤├───┤├─────────────────┤»\n",
       "«   q_2: ┤ Delay(2096[dt]) ├┤ X ├┤ Delay(2096[dt]) ├┤ X ├┤ Delay(2096[dt]) ├»\n",
       "«        ├─────────────────┤├───┤├─────────────────┤├───┤├─────────────────┤»\n",
       "«   q_3: ┤ Delay(2096[dt]) ├┤ X ├┤ Delay(2096[dt]) ├┤ X ├┤ Delay(2096[dt]) ├»\n",
       "«        ├─────────────────┤├───┤├─────────────────┤├───┤├─────────────────┤»\n",
       "«   q_4: ┤ Delay(2096[dt]) ├┤ X ├┤ Delay(2096[dt]) ├┤ X ├┤ Delay(2096[dt]) ├»\n",
       "«        └─────────────────┘└───┘└─────────────────┘└───┘└─────────────────┘»\n",
       "«meas: 5/═══════════════════════════════════════════════════════════════════»\n",
       "«                                                                           »\n",
       "«        ┌───┐┌─────────────────┐┌───┐┌─────────────────┐ ┌───┐       ░ ┌─┐   »\n",
       "«   q_0: ┤ X ├┤ Delay(2096[dt]) ├┤ X ├┤ Delay(1024[dt]) ├─┤ H ├───────░─┤M├───»\n",
       "«        ├───┤├─────────────────┤├───┤├─────────────────┤┌┴───┴┐┌───┐ ░ └╥┘┌─┐»\n",
       "«   q_1: ┤ X ├┤ Delay(2096[dt]) ├┤ X ├┤ Delay(1024[dt]) ├┤ Sdg ├┤ H ├─░──╫─┤M├»\n",
       "«        ├───┤├─────────────────┤├───┤├─────────────────┤└─────┘└───┘ ░  ║ └╥┘»\n",
       "«   q_2: ┤ X ├┤ Delay(2096[dt]) ├┤ X ├┤ Delay(1024[dt]) ├─────────────░──╫──╫─»\n",
       "«        ├───┤├─────────────────┤├───┤├─────────────────┤ ┌───┐       ░  ║  ║ »\n",
       "«   q_3: ┤ X ├┤ Delay(2096[dt]) ├┤ X ├┤ Delay(1024[dt]) ├─┤ H ├───────░──╫──╫─»\n",
       "«        ├───┤├─────────────────┤├───┤├─────────────────┤ ├───┤       ░  ║  ║ »\n",
       "«   q_4: ┤ X ├┤ Delay(2096[dt]) ├┤ X ├┤ Delay(1024[dt]) ├─┤ H ├───────░──╫──╫─»\n",
       "«        └───┘└─────────────────┘└───┘└─────────────────┘ └───┘       ░  ║  ║ »\n",
       "«meas: 5/════════════════════════════════════════════════════════════════╩══╩═»\n",
       "«                                                                        0  1 »\n",
       "«                 \n",
       "«   q_0: ─────────\n",
       "«                 \n",
       "«   q_1: ─────────\n",
       "«        ┌─┐      \n",
       "«   q_2: ┤M├──────\n",
       "«        └╥┘┌─┐   \n",
       "«   q_3: ─╫─┤M├───\n",
       "«         ║ └╥┘┌─┐\n",
       "«   q_4: ─╫──╫─┤M├\n",
       "«         ║  ║ └╥┘\n",
       "«meas: 5/═╩══╩══╩═\n",
       "«         2  3  4 </pre>"
      ],
      "text/plain": [
       "        ┌───┐       ░ ┌─────────────────┐┌───┐┌─────────────────┐┌───┐»\n",
       "   q_0: ┤ H ├─■─────░─┤ Delay(1024[dt]) ├┤ X ├┤ Delay(2096[dt]) ├┤ X ├»\n",
       "        ├───┤ │     ░ ├─────────────────┤├───┤├─────────────────┤├───┤»\n",
       "   q_1: ┤ H ├─■──■──░─┤ Delay(1024[dt]) ├┤ X ├┤ Delay(2096[dt]) ├┤ X ├»\n",
       "        ├───┤    │  ░ ├─────────────────┤├───┤├─────────────────┤├───┤»\n",
       "   q_2: ┤ H ├─■──■──░─┤ Delay(1024[dt]) ├┤ X ├┤ Delay(2096[dt]) ├┤ X ├»\n",
       "        ├───┤ │     ░ ├─────────────────┤├───┤├─────────────────┤├───┤»\n",
       "   q_3: ┤ H ├─■──■──░─┤ Delay(1024[dt]) ├┤ X ├┤ Delay(2096[dt]) ├┤ X ├»\n",
       "        ├───┤    │  ░ ├─────────────────┤├───┤├─────────────────┤├───┤»\n",
       "   q_4: ┤ H ├────■──░─┤ Delay(1024[dt]) ├┤ X ├┤ Delay(2096[dt]) ├┤ X ├»\n",
       "        └───┘       ░ └─────────────────┘└───┘└─────────────────┘└───┘»\n",
       "meas: 5/══════════════════════════════════════════════════════════════»\n",
       "                                                                      »\n",
       "«        ┌─────────────────┐┌───┐┌─────────────────┐┌───┐┌─────────────────┐»\n",
       "«   q_0: ┤ Delay(2096[dt]) ├┤ X ├┤ Delay(2096[dt]) ├┤ X ├┤ Delay(2096[dt]) ├»\n",
       "«        ├─────────────────┤├───┤├─────────────────┤├───┤├─────────────────┤»\n",
       "«   q_1: ┤ Delay(2096[dt]) ├┤ X ├┤ Delay(2096[dt]) ├┤ X ├┤ Delay(2096[dt]) ├»\n",
       "«        ├─────────────────┤├───┤├─────────────────┤├───┤├─────────────────┤»\n",
       "«   q_2: ┤ Delay(2096[dt]) ├┤ X ├┤ Delay(2096[dt]) ├┤ X ├┤ Delay(2096[dt]) ├»\n",
       "«        ├─────────────────┤├───┤├─────────────────┤├───┤├─────────────────┤»\n",
       "«   q_3: ┤ Delay(2096[dt]) ├┤ X ├┤ Delay(2096[dt]) ├┤ X ├┤ Delay(2096[dt]) ├»\n",
       "«        ├─────────────────┤├───┤├─────────────────┤├───┤├─────────────────┤»\n",
       "«   q_4: ┤ Delay(2096[dt]) ├┤ X ├┤ Delay(2096[dt]) ├┤ X ├┤ Delay(2096[dt]) ├»\n",
       "«        └─────────────────┘└───┘└─────────────────┘└───┘└─────────────────┘»\n",
       "«meas: 5/═══════════════════════════════════════════════════════════════════»\n",
       "«                                                                           »\n",
       "«        ┌───┐┌─────────────────┐┌───┐┌─────────────────┐ ┌───┐       ░ ┌─┐   »\n",
       "«   q_0: ┤ X ├┤ Delay(2096[dt]) ├┤ X ├┤ Delay(1024[dt]) ├─┤ H ├───────░─┤M├───»\n",
       "«        ├───┤├─────────────────┤├───┤├─────────────────┤┌┴───┴┐┌───┐ ░ └╥┘┌─┐»\n",
       "«   q_1: ┤ X ├┤ Delay(2096[dt]) ├┤ X ├┤ Delay(1024[dt]) ├┤ Sdg ├┤ H ├─░──╫─┤M├»\n",
       "«        ├───┤├─────────────────┤├───┤├─────────────────┤└─────┘└───┘ ░  ║ └╥┘»\n",
       "«   q_2: ┤ X ├┤ Delay(2096[dt]) ├┤ X ├┤ Delay(1024[dt]) ├─────────────░──╫──╫─»\n",
       "«        ├───┤├─────────────────┤├───┤├─────────────────┤ ┌───┐       ░  ║  ║ »\n",
       "«   q_3: ┤ X ├┤ Delay(2096[dt]) ├┤ X ├┤ Delay(1024[dt]) ├─┤ H ├───────░──╫──╫─»\n",
       "«        ├───┤├─────────────────┤├───┤├─────────────────┤ ├───┤       ░  ║  ║ »\n",
       "«   q_4: ┤ X ├┤ Delay(2096[dt]) ├┤ X ├┤ Delay(1024[dt]) ├─┤ H ├───────░──╫──╫─»\n",
       "«        └───┘└─────────────────┘└───┘└─────────────────┘ └───┘       ░  ║  ║ »\n",
       "«meas: 5/════════════════════════════════════════════════════════════════╩══╩═»\n",
       "«                                                                        0  1 »\n",
       "«                 \n",
       "«   q_0: ─────────\n",
       "«                 \n",
       "«   q_1: ─────────\n",
       "«        ┌─┐      \n",
       "«   q_2: ┤M├──────\n",
       "«        └╥┘┌─┐   \n",
       "«   q_3: ─╫─┤M├───\n",
       "«         ║ └╥┘┌─┐\n",
       "«   q_4: ─╫──╫─┤M├\n",
       "«         ║  ║ └╥┘\n",
       "«meas: 5/═╩══╩══╩═\n",
       "«         2  3  4 "
      ]
     },
     "execution_count": 5,
     "metadata": {},
     "output_type": "execute_result"
    }
   ],
   "source": [
    "backend = provider.get_backend('ibmq_manila')\n",
    "test = GraphState(backend)\n",
    "\n",
    "delays_ns = list(range(0,41000,1000))\n",
    "delays = test.format_delays(delays_ns, unit='ns')\n",
    "increment = delays[1]-delays[0]\n",
    "\n",
    "test.gen_delay_circuit(delays[3], increment, dynamic_decoupling='pdd')\n",
    "test.gen_full_qst_circuits()\n",
    "test.delay_circuit.draw()\n",
    "test.full_qst_circuits['XYZXX'].draw()"
   ]
  },
  {
   "cell_type": "code",
   "execution_count": 2,
   "metadata": {},
   "outputs": [
    {
     "name": "stdout",
     "output_type": "stream",
     "text": [
      "Account enabled\n",
      "Provider: ibm-q-melbourne-unimelb-hub\n"
     ]
    }
   ],
   "source": [
    "from time import time\n",
    "import networkx as nx\n",
    "import numpy as np\n",
    "import matplotlib.pyplot as plt\n",
    "from qiskit import transpile, ClassicalRegister\n",
    "from qiskit.quantum_info import partial_trace, Statevector, DensityMatrix, Operator\n",
    "from qiskit.visualization import plot_histogram\n",
    "from qiskit_ibm_provider import IBMProvider\n",
    "\n",
    "from utilities import startup, bit_str_list, run_cal\n",
    "from graphstate import GraphState, calc_negativities, calc_n_mean, plot_cxerr_corr, BS_list_even\n",
    "from entanglebase import EntangleBase\n",
    "\n",
    "hub = \"ibm-q-melbourne\"\n",
    "group = \"unimelb\"\n",
    "project = \"hub\"\n",
    "backend_name = 'ibmq_jakarta'\n",
    "hgp = f\"{hub}/{group}/{project}\"\n",
    "\n",
    "#provider = IBMProvider()\n",
    "#backend = provider.get_backend(backend_name, instance=hgp)\n",
    "provider = startup()"
   ]
  },
  {
   "cell_type": "code",
   "execution_count": 3,
   "metadata": {},
   "outputs": [
    {
     "name": "stdout",
     "output_type": "stream",
     "text": [
      "BS_4\n"
     ]
    },
    {
     "data": {
      "text/html": [
       "<pre style=\"word-wrap: normal;white-space: pre;background: #fff0;line-height: 1.1;font-family: &quot;Courier New&quot;,Courier,monospace\">     ┌───┐     ┌───┐┌───┐┌───┐\n",
       "q_0: ┤ H ├──■──┤ X ├┤ Z ├┤ H ├\n",
       "     └───┘┌─┴─┐└───┘└───┘└───┘\n",
       "q_1: ─────┤ X ├───────────────\n",
       "          └───┘               </pre>"
      ],
      "text/plain": [
       "     ┌───┐     ┌───┐┌───┐┌───┐\n",
       "q_0: ┤ H ├──■──┤ X ├┤ Z ├┤ H ├\n",
       "     └───┘┌─┴─┐└───┘└───┘└───┘\n",
       "q_1: ─────┤ X ├───────────────\n",
       "          └───┘               "
      ]
     },
     "execution_count": 3,
     "metadata": {},
     "output_type": "execute_result"
    }
   ],
   "source": [
    "a = GraphState.bit_str_to_BellState('0011')\n",
    "print(a)\n",
    "\n",
    "#BS_list_even[3].measure_all()\n",
    "BS_list_even[3].draw()\n",
    "#BS_list_even[3].qasm()"
   ]
  },
  {
   "cell_type": "code",
   "execution_count": 6,
   "metadata": {},
   "outputs": [
    {
     "name": "stdout",
     "output_type": "stream",
     "text": [
      "{1: {(0, 2): {'X': [1], 'Z': [5, 6, 4, 3]}, (0, 3): {'X': [1], 'Z': [5, 6, 4, 2]}, (1, 5): {'X': [3], 'Z': [6, 4, 2, 0]}, (2, 3): {'X': [1], 'Z': [5, 6, 4, 0]}, (3, 4): {'X': [5], 'Z': [6, 1, 2, 0]}, (3, 6): {'X': [5], 'Z': [4, 1, 2, 0]}, (4, 6): {'X': [5], 'Z': [3, 1, 2, 0]}}, 2: {(0, 5): {'X': [1, 3], 'Z': [6, 4, 2]}, (1, 4): {'X': [3, 5], 'Z': [6, 2, 0]}, (1, 6): {'X': [3, 5], 'Z': [4, 2, 0]}, (2, 5): {'X': [1, 3], 'Z': [6, 4, 0]}}, 3: {(0, 4): {'X': [1, 3, 5], 'Z': [6, 2]}, (0, 6): {'X': [1, 3, 5], 'Z': [4, 2]}, (2, 4): {'X': [1, 3, 5], 'Z': [6, 0]}, (2, 6): {'X': [1, 3, 5], 'Z': [4, 0]}}}\n",
      "135\n",
      "[[ 5.00786592e-01-1.59517407e-18j -2.34027668e-03-4.76811152e-03j\n",
      "  -7.39327080e-03-1.75876528e-03j  4.98403047e-01-1.60397791e-03j]\n",
      " [-2.34027668e-03+4.76811152e-03j  6.66631087e-04+9.94197116e-19j\n",
      "  -2.89964553e-04-4.60447811e-04j -1.27973747e-03+5.09561107e-03j]\n",
      " [-7.39327080e-03+1.75876528e-03j -2.89964553e-04+4.60447811e-04j\n",
      "   5.66059051e-04+7.09955006e-19j -8.15434588e-03+2.25731005e-03j]\n",
      " [ 4.98403047e-01+1.60397791e-03j -1.27973747e-03-5.09561107e-03j\n",
      "  -8.15434588e-03-2.25731005e-03j  4.97980717e-01-1.59975604e-18j]]\n",
      "0.49787429351513723\n"
     ]
    }
   ],
   "source": [
    "#backend = provider.get_backend('ibm_oslo')\n",
    "test = GraphState(backend)\n",
    "test.gen_teleportation_basis()\n",
    "print(test.teleportation_basis)\n",
    "test.gen_teleported_BellState_circuit(post_processing = False)\n",
    "test.teleported_BellState_circuits[1][(0,2)].draw('mpl')\n",
    "test.gen_teleported_qst_circuits()\n",
    "test.teleported_BellState_circuits_qst[1][(0,2)]['ZZ'].draw('mpl')\n",
    "#test.teleported_BellState_circuits_qst[2][(0,4)]['ZZ'].qasm()\n",
    "\n",
    "jobs = test.run_teleported_qst_circuits(reps=1, shots=4096, qrem=False, sim='ideal')\n",
    "print(len(jobs.result().results))\n",
    "\n",
    "#print(jobs.result().get_counts('2-(0, 5)-ZZ-0'))\n",
    "#qst_counts, qst_pvecs = test.teleported_counts_from_result(jobs.result(), post_processing = True)\n",
    "#qst_counts_mit, qst_pvecs_mit = test.apply_qrem_teleported_counts(qst_counts, qst_pvecs)\n",
    "#pvecs_binned = test.bin_teleported_pvecs(qst_counts_mit, qst_pvecs_mit)\n",
    "\n",
    "rho_dict_list = test.recon_teleported_density_mats(jobs.result(), post_processing= False, apply_mit = False)\n",
    "print(rho_dict_list[0][1][(0,2)])\n",
    "n_list = calc_teleported_negativities(rho_dict_list, post_processing = False, mode = 'all')\n",
    "print(n_list[0][1][(0,2)])\n",
    "\n",
    "#pvecs_binned = test.bin_teleported_pvecs_from_dynamic_circuits(qst_counts_mit, qst_pvecs_mit)\n",
    "#print(qst_counts[0][3][(0,4)]['ZZ']) #0th rep, gap = 2, pair = (0,5), basis = ZZ\n",
    "#print(qst_pvecs[0][3][(0,4)]['ZZ'])\n",
    "#print(qst_counts_mit[0][3][(0,4)]['ZZ'])\n",
    "#print(qst_pvecs_mit[0][3][(0,4)]['ZZ'])\n",
    "#print(pvecs_binned[0][3][(0,4)]['BS_4']['ZZ'])"
   ]
  },
  {
   "cell_type": "code",
   "execution_count": 2,
   "metadata": {},
   "outputs": [
    {
     "name": "stdout",
     "output_type": "stream",
     "text": [
      "[7, 7, 7]\n"
     ]
    }
   ],
   "source": [
    "backend = provider.get_backend('ibmq_manila')\n",
    "test = GraphState(backend)\n",
    "\n",
    "delays_ns = list(range(0,41000,1000))\n",
    "delays = test.format_delays(delays_ns, unit='ns')\n",
    "increment = delays[1]-delays[0]\n",
    "\n",
    "test.gen_delay_circuit(delays[2], increment, dynamic_decoupling=False)\n",
    "\n",
    "test.gen_entanglement_witness_intactness_circuits()\n",
    "test.entanglement_witness_intactness_circuits['Mx'].draw()\n",
    "\n",
    "job = test.run_entanglement_witness_intactness_circuits(reps=3, shots=8192, qrem=True, sim='ideal')\n",
    "\n",
    "#pvecs = test.pvecs_Mx_Mz_from_result(job.result())\n",
    "#print(pvecs)\n",
    "\n",
    "#expected_values = test.Mx_Mz_from_result(pvecs)\n",
    "#print(expected_values)\n",
    "lower_bounds_list = test.find_entanglement_witness_intactness(job.result(), qrem = True)\n",
    "print(lower_bounds_list)"
   ]
  },
  {
   "cell_type": "code",
   "execution_count": 4,
   "metadata": {},
   "outputs": [
    {
     "name": "stdout",
     "output_type": "stream",
     "text": [
      "[(0.9772812224155092+9.486769009248164e-18j)]\n"
     ]
    }
   ],
   "source": [
    "backend = provider.get_backend('ibmq_jakarta')\n",
    "test = GraphState(backend, qubits_to_connect=[0,1,2,3,4,5])\n",
    "\n",
    "#state = Statevector(test.circuit)\n",
    "#ro = DensityMatrix(state).data\n",
    "\n",
    "#delays_ns = list(range(0,41000,1000))\n",
    "#delays = test.format_delays(delays_ns, unit='ns')\n",
    "#increment = delays[1]-delays[0]\n",
    "\n",
    "#test.gen_delay_circuit(delays[2], increment, dynamic_decoupling=True)\n",
    "\n",
    "test.gen_full_qst_circuits()\n",
    "\n",
    "job = test.run_full_qst_circuits(reps=1, shots=4096, qrem=True, sim='ideal')\n",
    "\n",
    "#test.full_qst_pvecs_from_result(job.result())\n",
    "rho_list = test.recon_full_density_mats(job.result(), apply_mit = 'qrem')\n",
    "fidelities = test.find_fidelities_to_GraphState(rho_list)\n",
    "\n",
    "print(fidelities)\n",
    "#test.full_qst_circuits['XYZYX'].draw()"
   ]
  },
  {
   "cell_type": "code",
   "execution_count": 5,
   "metadata": {},
   "outputs": [
    {
     "data": {
      "text/html": [
       "<pre style=\"word-wrap: normal;white-space: pre;background: #fff0;line-height: 1.1;font-family: &quot;Courier New&quot;,Courier,monospace\">   ┌───┐                  \n",
       "0: ┤ H ├─■────────X───────\n",
       "   ├───┤ │        │       \n",
       "1: ┤ H ├─■──■──■──┼──X────\n",
       "   ├───┤    │  │  │  │    \n",
       "2: ┤ H ├────■──┼──┼──┼──X─\n",
       "   ├───┤       │  │  │  │ \n",
       "3: ┤ H ├─■─────■──┼──┼──X─\n",
       "   ├───┤ │        │  │    \n",
       "4: ┤ H ├─┼──■─────┼──X────\n",
       "   ├───┤ │  │     │       \n",
       "5: ┤ H ├─■──■─────X───────\n",
       "   └───┘                  </pre>"
      ],
      "text/plain": [
       "   ┌───┐                  \n",
       "0: ┤ H ├─■────────X───────\n",
       "   ├───┤ │        │       \n",
       "1: ┤ H ├─■──■──■──┼──X────\n",
       "   ├───┤    │  │  │  │    \n",
       "2: ┤ H ├────■──┼──┼──┼──X─\n",
       "   ├───┤       │  │  │  │ \n",
       "3: ┤ H ├─■─────■──┼──┼──X─\n",
       "   ├───┤ │        │  │    \n",
       "4: ┤ H ├─┼──■─────┼──X────\n",
       "   ├───┤ │  │     │       \n",
       "5: ┤ H ├─■──■─────X───────\n",
       "   └───┘                  "
      ]
     },
     "metadata": {},
     "output_type": "display_data"
    },
    {
     "name": "stdout",
     "output_type": "stream",
     "text": [
      "DensityMatrix([[ 0.015625+0.j,  0.015625+0.j,  0.015625+0.j, ...,\n",
      "                 0.015625+0.j, -0.015625-0.j, -0.015625-0.j],\n",
      "               [ 0.015625+0.j,  0.015625+0.j,  0.015625+0.j, ...,\n",
      "                 0.015625+0.j, -0.015625-0.j, -0.015625-0.j],\n",
      "               [ 0.015625+0.j,  0.015625+0.j,  0.015625+0.j, ...,\n",
      "                 0.015625+0.j, -0.015625-0.j, -0.015625-0.j],\n",
      "               ...,\n",
      "               [ 0.015625+0.j,  0.015625+0.j,  0.015625+0.j, ...,\n",
      "                 0.015625+0.j, -0.015625-0.j, -0.015625-0.j],\n",
      "               [-0.015625+0.j, -0.015625+0.j, -0.015625+0.j, ...,\n",
      "                -0.015625+0.j,  0.015625+0.j,  0.015625+0.j],\n",
      "               [-0.015625+0.j, -0.015625+0.j, -0.015625+0.j, ...,\n",
      "                -0.015625+0.j,  0.015625+0.j,  0.015625+0.j]],\n",
      "              dims=(2, 2, 2, 2, 2, 2))\n"
     ]
    }
   ],
   "source": [
    "from qiskit.converters import circuit_to_dag, dag_to_circuit\n",
    "from collections import OrderedDict\n",
    "\n",
    "def remove_idle_qwires(circ):\n",
    "    dag = circuit_to_dag(circ)\n",
    "\n",
    "    idle_wires = list(dag.idle_wires())\n",
    "    for w in idle_wires:\n",
    "        dag._remove_idle_wire(w)\n",
    "        dag.qubits.remove(w)\n",
    "\n",
    "    dag.qregs = OrderedDict()\n",
    "\n",
    "    return dag_to_circuit(dag)\n",
    "\n",
    "circ = remove_idle_qwires(test.circuit)\n",
    "circ.swap(0,5)\n",
    "circ.swap(1,4)\n",
    "circ.swap(2,3)\n",
    "display(circ.draw())\n",
    "state = Statevector(circ)\n",
    "rho_true = DensityMatrix(state.data, dims=2**6)\n",
    "print(rho_true)"
   ]
  },
  {
   "cell_type": "code",
   "execution_count": 33,
   "metadata": {},
   "outputs": [
    {
     "data": {
      "image/png": "[encoded data removed]",
      "text/plain": [
       "<Figure size 640x480 with 2 Axes>"
      ]
     },
     "metadata": {},
     "output_type": "display_data"
    }
   ],
   "source": [
    "import matplotlib as mpl\n",
    "#cmap = mpl.colormaps['hsv']\n",
    "#plt.imshow(np.angle(rho_true), cmap=cmap)\n",
    "plt.imshow(np.abs(rho_true), cmap=plt.cm.CMRmap)\n",
    "#cmap=plt.cm.CMRmap\n",
    "#norm = mpl.colors.Normalize(vmin=0, vmax=1)\n",
    "#im = mpl.cm.ScalarMappable(norm=norm, cmap=cmap)\n",
    "label_list = ['000000', '001000', '010000', '011000', '100000', '101000','110000','111000','111111']\n",
    "phase_ticks = ['-π', '-2π/3','-π/3','0','π/3','2π/3','π']\n",
    "plt.xticks([0,8,16,24,32,40,48,56,63], label_list)\n",
    "plt.yticks([0,8,16,24,32,40,48,56,63], label_list)\n",
    "plt.tick_params(axis='x', labelrotation=80)\n",
    "plt.clim(0, 0.022)\n",
    "#plt.clim(-np.pi, np.pi)\n",
    "cb = plt.colorbar(orientation='vertical', label='Norm')\n",
    "#cb = plt.colorbar(orientation='vertical', label='Phase', \n",
    "#                  ticks=[-np.pi, -2*np.pi/3, -np.pi/3, 0, np.pi/3, 2*np.pi/3, np.pi])\n",
    "#cb.ax.set_yticklabels(phase_ticks)\n",
    "cb.set_label(label = 'Norm', size=15)\n",
    "plt.show()"
   ]
  },
  {
   "cell_type": "code",
   "execution_count": 3,
   "metadata": {},
   "outputs": [
    {
     "name": "stdout",
     "output_type": "stream",
     "text": [
      "[array([[ 0.03125+0.j,  0.03125+0.j,  0.03125+0.j, ...,  0.03125+0.j,\n",
      "        -0.03125-0.j,  0.03125+0.j],\n",
      "       [ 0.03125+0.j,  0.03125+0.j,  0.03125+0.j, ...,  0.03125+0.j,\n",
      "        -0.03125-0.j,  0.03125+0.j],\n",
      "       [ 0.03125+0.j,  0.03125+0.j,  0.03125+0.j, ...,  0.03125+0.j,\n",
      "        -0.03125-0.j,  0.03125+0.j],\n",
      "       ...,\n",
      "       [ 0.03125+0.j,  0.03125+0.j,  0.03125+0.j, ...,  0.03125+0.j,\n",
      "        -0.03125-0.j,  0.03125+0.j],\n",
      "       [-0.03125+0.j, -0.03125+0.j, -0.03125+0.j, ..., -0.03125+0.j,\n",
      "         0.03125+0.j, -0.03125+0.j],\n",
      "       [ 0.03125+0.j,  0.03125+0.j,  0.03125+0.j, ...,  0.03125+0.j,\n",
      "        -0.03125-0.j,  0.03125+0.j]])]\n",
      "[(0.9999999999999991+0j)]\n"
     ]
    },
    {
     "data": {
      "text/html": [
       "<pre style=\"word-wrap: normal;white-space: pre;background: #fff0;line-height: 1.1;font-family: &quot;Courier New&quot;,Courier,monospace\">     ┌───┐      \n",
       "q_0: ┤ H ├─■────\n",
       "     ├───┤ │    \n",
       "q_1: ┤ H ├─■──■─\n",
       "     ├───┤    │ \n",
       "q_2: ┤ H ├─■──■─\n",
       "     ├───┤ │    \n",
       "q_3: ┤ H ├─■──■─\n",
       "     ├───┤    │ \n",
       "q_4: ┤ H ├────■─\n",
       "     └───┘      </pre>"
      ],
      "text/plain": [
       "     ┌───┐      \n",
       "q_0: ┤ H ├─■────\n",
       "     ├───┤ │    \n",
       "q_1: ┤ H ├─■──■─\n",
       "     ├───┤    │ \n",
       "q_2: ┤ H ├─■──■─\n",
       "     ├───┤ │    \n",
       "q_3: ┤ H ├─■──■─\n",
       "     ├───┤    │ \n",
       "q_4: ┤ H ├────■─\n",
       "     └───┘      "
      ]
     },
     "execution_count": 3,
     "metadata": {},
     "output_type": "execute_result"
    }
   ],
   "source": [
    "import mthree\n",
    "circuit_inv = test.circuit.copy()\n",
    "#circuit_inv.x(range(test.nqubits))\n",
    "state = Statevector(circuit_inv).data\n",
    "\n",
    "ro = [np.outer(state, state.conjugate())]\n",
    "\n",
    "#ro = [DensityMatrix(circuit_inv).data]\n",
    "print(ro)\n",
    "\n",
    "fidelities = test.find_fidelities_to_GraphState(ro)\n",
    "print(fidelities)\n",
    "#plt.imshow(np.abs(ro))\n",
    "#plt.colorbar()\n",
    "#plt.show()\n",
    "circuit_inv.draw()"
   ]
  }
 ],
 "metadata": {
  "kernelspec": {
   "display_name": "Python 3 (ipykernel)",
   "language": "python",
   "name": "python3"
  },
  "language_info": {
   "codemirror_mode": {
    "name": "ipython",
    "version": 3
   },
   "file_extension": ".py",
   "mimetype": "text/x-python",
   "name": "python",
   "nbconvert_exporter": "python",
   "pygments_lexer": "ipython3",
   "version": "3.10.4"
  }
 },
 "nbformat": 4,
 "nbformat_minor": 4
}
