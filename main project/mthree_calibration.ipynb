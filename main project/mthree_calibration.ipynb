{
 "cells": [
  {
   "cell_type": "code",
   "execution_count": 1,
   "metadata": {},
   "outputs": [
    {
     "name": "stdout",
     "output_type": "stream",
     "text": [
      "Account enabled\n"
     ]
    }
   ],
   "source": [
    "from time import time\n",
    "\n",
    "from utilities import run_cal, startup, IBM_startup\n",
    "provider = IBM_startup()\n",
    "backend = provider.get_backend('ibm_cairo')"
   ]
  },
  {
   "cell_type": "code",
   "execution_count": null,
   "metadata": {},
   "outputs": [],
   "source": [
    "mit = run_cal(backend)"
   ]
  },
  {
   "cell_type": "code",
   "execution_count": 1,
   "metadata": {},
   "outputs": [
    {
     "data": {
      "text/plain": [
       "{1: [(-0.7749250000000004+0j),\n",
       "  (-0.7522550000000001+0j),\n",
       "  (-0.7624275000000003+0j)],\n",
       " 2: [(0.6095313124999994+0j),\n",
       "  (0.5805121249999977+0j),\n",
       "  (0.5917570625000005+0j)],\n",
       " 3: [(-0.4858227671875052+0j),\n",
       "  (-0.46482823906249915+0j),\n",
       "  (-0.4667894531249981+0j)],\n",
       " 4: [(0.3912364841796963+0j),\n",
       "  (0.38063411949221126+0j),\n",
       "  (0.37387105554688455+0j)]}"
      ]
     },
     "execution_count": 1,
     "metadata": {},
     "output_type": "execute_result"
    }
   ],
   "source": [
    "import numpy as np\n",
    "\n",
    "def moments_from_cummulants(C):\n",
    "    moments_dict = {i+1:[] for i in range(4)}\n",
    "    \n",
    "    for i in range(3):\n",
    "        m1 = C[1][i]\n",
    "        m2 = C[2][i]+C[1][i]**2\n",
    "        m3 = C[3][i] + C[1][i]*m2 + 2*C[2][i]*m1\n",
    "        m4 = C[4][i] + C[1][i]*m3 +3*C[2][i]*m2 + 3*C[3][i]*m1\n",
    "        moments_dict[1].append(m1)\n",
    "        moments_dict[2].append(m2)\n",
    "        moments_dict[3].append(m3)\n",
    "        moments_dict[4].append(m4)\n",
    "    return moments_dict\n",
    "\n",
    "moments_from_cummulants({1: [(-0.7749250000000004+0j), (-0.7522550000000001+0j), (-0.7624275000000003+0j)], 2: [(0.009022556874998755+0j), (0.014624539974997575+0j), (0.010461369743750115+0j)], 3: [(0.0005018949242738668+0j), (-0.006132323832842186+0j), (0.000334476604827251+0j)], 4: [(-0.0005715237128741974+0j), (-0.008343629612473005+0j), (0.0001712139714419562+0j)]})"
   ]
  }
 ],
 "metadata": {
  "kernelspec": {
   "display_name": "py3-10-4",
   "language": "python",
   "name": "python3"
  },
  "language_info": {
   "codemirror_mode": {
    "name": "ipython",
    "version": 3
   },
   "file_extension": ".py",
   "mimetype": "text/x-python",
   "name": "python",
   "nbconvert_exporter": "python",
   "pygments_lexer": "ipython3",
   "version": "3.10.4"
  },
  "orig_nbformat": 4
 },
 "nbformat": 4,
 "nbformat_minor": 2
}
