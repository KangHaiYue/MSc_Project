{
 "cells": [
  {
   "cell_type": "code",
   "execution_count": 1,
   "id": "87f5a9b5",
   "metadata": {},
   "outputs": [
    {
     "name": "stdout",
     "output_type": "stream",
     "text": [
      "Account enabled\n",
      "Provider: ibm-q-melbourne\n"
     ]
    }
   ],
   "source": [
    "from time import time\n",
    "import numpy as np\n",
    "from matplotlib import pyplot as plt\n",
    "\n",
    "# Qiskit\n",
    "from qiskit import IBMQ, transpile, QuantumCircuit\n",
    "from qiskit.providers.ibmq.managed import IBMQJobManager\n",
    "from qiskit.quantum_info import partial_trace, Statevector, DensityMatrix\n",
    "# Local modules\n",
    "from utilities import startup, check_provider\n",
    "from graphstate import GraphState, calc_negativities, calc_entanglement_entropy, plot_negativities_multi, calc_n_mean, plot_cxerr_corr\n",
    "\n",
    "provider = startup()"
   ]
  },
  {
   "cell_type": "code",
   "execution_count": 7,
   "id": "24fd803b",
   "metadata": {},
   "outputs": [
    {
     "name": "stdout",
     "output_type": "stream",
     "text": [
      "243\n",
      "job done\n",
      "[array([[ 0.03050232+0.j        ,  0.03159332-0.00069427j,\n",
      "         0.03262329+0.00149536j, ..., -0.03085327-0.00048828j,\n",
      "        -0.03157806+0.00225067j,  0.0295639 -0.00131226j],\n",
      "       [ 0.03159332+0.00069427j,  0.0337677 +0.j        ,\n",
      "         0.03121185+0.00016785j, ..., -0.03314972+0.00208282j,\n",
      "        -0.03316498+0.00071716j,  0.0331192 +0.00084686j],\n",
      "       [ 0.03262329-0.00149536j,  0.03121185-0.00016785j,\n",
      "         0.03353882+0.j        , ..., -0.03134918-0.00042725j,\n",
      "        -0.03101349+0.00197601j,  0.02946472-0.00048828j],\n",
      "       ...,\n",
      "       [-0.03085327+0.00048828j, -0.03314972-0.00208282j,\n",
      "        -0.03134918+0.00042725j, ...,  0.03504944+0.j        ,\n",
      "         0.03400421-0.00128174j, -0.03102112-0.00161743j],\n",
      "       [-0.03157806-0.00225067j, -0.03316498-0.00071716j,\n",
      "        -0.03101349-0.00197601j, ...,  0.03400421+0.00128174j,\n",
      "         0.03158569+0.j        , -0.03180695-0.00191498j],\n",
      "       [ 0.0295639 +0.00131226j,  0.0331192 -0.00084686j,\n",
      "         0.02946472+0.00048828j, ..., -0.03102112+0.00161743j,\n",
      "        -0.03180695+0.00191498j,  0.03103638+0.j        ]])]\n",
      "[array([[ 0.03050232+0.j        ,  0.03159332-0.00069427j,\n",
      "         0.03262329+0.00149536j, ..., -0.03085327-0.00048828j,\n",
      "        -0.03157806+0.00225067j,  0.0295639 -0.00131226j],\n",
      "       [ 0.03159332+0.00069427j,  0.0337677 +0.j        ,\n",
      "         0.03121185+0.00016785j, ..., -0.03314972+0.00208282j,\n",
      "        -0.03316498+0.00071716j,  0.0331192 +0.00084686j],\n",
      "       [ 0.03262329-0.00149536j,  0.03121185-0.00016785j,\n",
      "         0.03353882+0.j        , ..., -0.03134918-0.00042725j,\n",
      "        -0.03101349+0.00197601j,  0.02946472-0.00048828j],\n",
      "       ...,\n",
      "       [-0.03085327+0.00048828j, -0.03314972-0.00208282j,\n",
      "        -0.03134918+0.00042725j, ...,  0.03504944+0.j        ,\n",
      "         0.03400421-0.00128174j, -0.03102112-0.00161743j],\n",
      "       [-0.03157806-0.00225067j, -0.03316498-0.00071716j,\n",
      "        -0.03101349-0.00197601j, ...,  0.03400421+0.00128174j,\n",
      "         0.03158569+0.j        , -0.03180695-0.00191498j],\n",
      "       [ 0.0295639 +0.00131226j,  0.0331192 -0.00084686j,\n",
      "         0.02946472+0.00048828j, ..., -0.03102112+0.00161743j,\n",
      "        -0.03180695+0.00191498j,  0.03103638+0.j        ]])]\n",
      "[(0.9999999999999998-5.421010862427522e-20j)]\n",
      "[(0.9999999999999998-5.421010862427522e-20j)]\n"
     ]
    }
   ],
   "source": [
    "backend = provider.get_backend('ibm_perth')\n",
    "graphstate = GraphState(backend, qubits_to_connect = [1,3,4,5,6])\n",
    "graphstate.gen_full_qst_circuits()\n",
    "print(len(graphstate.name_list))\n",
    "#graphstate.full_qst_circuits['ZZ'].draw()\n",
    "job = graphstate.run_full_qst_circuits(reps=1, shots=8192, qrem=True, sim='ideal')\n",
    "print('job done')\n",
    "#pvecs, counts = graphstate.full_qst_pvecs_from_result(job.result())\n",
    "#print(pvecs)\n",
    "#print(counts)\n",
    "rho_list = graphstate.recon_full_density_mats(job.result(), apply_mit = False)\n",
    "rho_list_mit = graphstate.recon_full_density_mats(job.result(), apply_mit = 'qrem')\n",
    "print(rho_list)\n",
    "print(rho_list_mit)\n",
    "fidelities = graphstate.find_fidelities_to_GraphState(rho_list)\n",
    "fidelities_mit = graphstate.find_fidelities_to_GraphState(rho_list_mit)\n",
    "print(fidelities)\n",
    "print(fidelities_mit)\n",
    "#graphstate.full_qst_circuits['ZZZZ'].draw()"
   ]
  },
  {
   "cell_type": "code",
   "execution_count": 31,
   "id": "0053ba82",
   "metadata": {},
   "outputs": [
    {
     "name": "stdout",
     "output_type": "stream",
     "text": [
      "[(1, 2), (1, 3), (3, 5), (5, 6)]\n",
      "[[ 0.03125+0.j  0.03125+0.j  0.03125+0.j ...  0.03125+0.j -0.03125-0.j\n",
      "   0.03125+0.j]\n",
      " [ 0.03125+0.j  0.03125+0.j  0.03125+0.j ...  0.03125+0.j -0.03125-0.j\n",
      "   0.03125+0.j]\n",
      " [ 0.03125+0.j  0.03125+0.j  0.03125+0.j ...  0.03125+0.j -0.03125-0.j\n",
      "   0.03125+0.j]\n",
      " ...\n",
      " [ 0.03125+0.j  0.03125+0.j  0.03125+0.j ...  0.03125+0.j -0.03125-0.j\n",
      "   0.03125+0.j]\n",
      " [-0.03125+0.j -0.03125+0.j -0.03125+0.j ... -0.03125+0.j  0.03125+0.j\n",
      "  -0.03125+0.j]\n",
      " [ 0.03125+0.j  0.03125+0.j  0.03125+0.j ...  0.03125+0.j -0.03125-0.j\n",
      "   0.03125+0.j]]\n"
     ]
    },
    {
     "data": {
      "text/html": [
       "<pre style=\"word-wrap: normal;white-space: pre;background: #fff0;line-height: 1.1;font-family: &quot;Courier New&quot;,Courier,monospace\">     ┌───┐      \n",
       "q_0: ┤ H ├────■─\n",
       "     ├───┤    │ \n",
       "q_1: ┤ H ├─■──■─\n",
       "     ├───┤ │    \n",
       "q_2: ┤ H ├─■──■─\n",
       "     ├───┤    │ \n",
       "q_3: ┤ H ├─■──┼─\n",
       "     ├───┤ │  │ \n",
       "q_4: ┤ H ├─■──■─\n",
       "     └───┘      </pre>"
      ],
      "text/plain": [
       "     ┌───┐      \n",
       "q_0: ┤ H ├────■─\n",
       "     ├───┤    │ \n",
       "q_1: ┤ H ├─■──■─\n",
       "     ├───┤ │    \n",
       "q_2: ┤ H ├─■──■─\n",
       "     ├───┤    │ \n",
       "q_3: ┤ H ├─■──┼─\n",
       "     ├───┤ │  │ \n",
       "q_4: ┤ H ├─■──■─\n",
       "     └───┘      "
      ]
     },
     "execution_count": 31,
     "metadata": {},
     "output_type": "execute_result"
    }
   ],
   "source": [
    "backend = provider.get_backend('ibm_perth')\n",
    "test = GraphState(backend, qubits_to_connect = [1,2,3,5,6])\n",
    "\n",
    "index_dict = {}\n",
    "for i in range(len(test.qubits_to_connect)):\n",
    "    index_dict[test.qubits_to_connect[i]] = test.nqubits-1-i\n",
    "state = QuantumCircuit(test.nqubits)\n",
    "state.h(list(range(test.nqubits)))\n",
    "unconnected_edges = test.edge_list.copy()\n",
    "print(unconnected_edges)\n",
    "while unconnected_edges:\n",
    "    connected_qubits = []  # Qubits already connected in the current time step\n",
    "    connected_edges = []\n",
    "    remove = []\n",
    "    for edge in unconnected_edges:\n",
    "        if np.any(np.isin(edge, connected_qubits)) == False:\n",
    "            state.cz(index_dict[edge[0]], index_dict[edge[1]])\n",
    "            connected_qubits.extend(edge)\n",
    "            remove.append(edge)\n",
    "    # Remove connected edges from unconnected edges list\n",
    "    for edge in remove:\n",
    "        unconnected_edges.remove(edge)\n",
    "\n",
    "vec = Statevector(state)\n",
    "rho_ideal = DensityMatrix(vec).data\n",
    "print(rho_ideal)\n",
    "state.draw()"
   ]
  },
  {
   "cell_type": "code",
   "execution_count": 30,
   "id": "833869c4",
   "metadata": {},
   "outputs": [
    {
     "name": "stdout",
     "output_type": "stream",
     "text": [
      "[0.70710678+0.j 0.70710678+0.j 0.        +0.j 0.        +0.j]\n",
      "[[0.5+0.j 0.5+0.j 0. +0.j 0. +0.j]\n",
      " [0.5+0.j 0.5+0.j 0. +0.j 0. +0.j]\n",
      " [0. +0.j 0. +0.j 0. +0.j 0. +0.j]\n",
      " [0. +0.j 0. +0.j 0. +0.j 0. +0.j]]\n"
     ]
    },
    {
     "data": {
      "text/html": [
       "<pre style=\"word-wrap: normal;white-space: pre;background: #fff0;line-height: 1.1;font-family: &quot;Courier New&quot;,Courier,monospace\">     ┌───┐\n",
       "q_0: ┤ H ├\n",
       "     └───┘\n",
       "q_1: ─────\n",
       "          </pre>"
      ],
      "text/plain": [
       "     ┌───┐\n",
       "q_0: ┤ H ├\n",
       "     └───┘\n",
       "q_1: ─────\n",
       "          "
      ]
     },
     "execution_count": 30,
     "metadata": {},
     "output_type": "execute_result"
    }
   ],
   "source": [
    "state = QuantumCircuit(2)\n",
    "state.h(0)\n",
    "vec = Statevector(state)\n",
    "print(vec.data)\n",
    "rho_ideal = DensityMatrix(vec).data\n",
    "print(rho_ideal)\n",
    "state.draw()"
   ]
  }
 ],
 "metadata": {
  "kernelspec": {
   "display_name": "Python 3 (ipykernel)",
   "language": "python",
   "name": "python3"
  },
  "language_info": {
   "codemirror_mode": {
    "name": "ipython",
    "version": 3
   },
   "file_extension": ".py",
   "mimetype": "text/x-python",
   "name": "python",
   "nbconvert_exporter": "python",
   "pygments_lexer": "ipython3",
   "version": "3.10.4"
  }
 },
 "nbformat": 4,
 "nbformat_minor": 5
}
