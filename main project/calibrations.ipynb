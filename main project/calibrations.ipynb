{
 "cells": [
  {
   "cell_type": "code",
   "execution_count": 3,
   "id": "8845213c-7d59-4dad-b370-6eff59d69535",
   "metadata": {},
   "outputs": [],
   "source": [
    "from utilities import startup, run_cal"
   ]
  },
  {
   "cell_type": "code",
   "execution_count": 4,
   "id": "e19d86a4-a8e3-46c6-b256-cc86d76a7fb8",
   "metadata": {},
   "outputs": [
    {
     "name": "stdout",
     "output_type": "stream",
     "text": [
      "Account already enabled\n",
      "Provider: ibm-q-melbourne\n"
     ]
    }
   ],
   "source": [
    "provider = startup(check=False)"
   ]
  },
  {
   "cell_type": "code",
   "execution_count": null,
   "id": "1bb56b10-95ee-415b-85c9-5a071c08bdc1",
   "metadata": {},
   "outputs": [],
   "source": [
    "backend = provider.get_backend('ibm_washington')\n",
    "filename = 'calibrations/ibm_washington_cal0'\n",
    "run_cal(backend, shots=8192, filename=filename)"
   ]
  }
 ],
 "metadata": {
  "kernelspec": {
   "display_name": "Python 3 (ipykernel)",
   "language": "python",
   "name": "python3"
  },
  "language_info": {
   "codemirror_mode": {
    "name": "ipython",
    "version": 3
   },
   "file_extension": ".py",
   "mimetype": "text/x-python",
   "name": "python",
   "nbconvert_exporter": "python",
   "pygments_lexer": "ipython3",
   "version": "3.9.12"
  }
 },
 "nbformat": 4,
 "nbformat_minor": 5
}
